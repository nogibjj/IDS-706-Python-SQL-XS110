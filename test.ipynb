{
 "cells": [
  {
   "cell_type": "code",
   "execution_count": 16,
   "metadata": {},
   "outputs": [],
   "source": [
    "import sqlite3\n",
    "\n"
   ]
  },
  {
   "cell_type": "code",
   "execution_count": 17,
   "metadata": {},
   "outputs": [
    {
     "name": "stdout",
     "output_type": "stream",
     "text": [
      "Top 5 rows of the GroceryDB table:\n",
      "[('', 'general name', 'count_products', 'ingred_FPro', 'avg_FPro_products', 'avg_distance_root', 'ingred_normalization_term', 'semantic_tree_name', 'semantic_tree_node'), ('0', 'arabica coffee', '21', '0.18903204038025467', '0.2754401549508692', '2.0476190476190474', '15.16666666666667', '', ''), ('1', 'grape tomatoes', '18', '0.21119429773632484', '0.4212998456790123', '3.111111111111111', '10.594047619047616', '', ''), ('2', 'cherry tomatoes', '11', '0.23032828967178565', '0.31386826599326595', '2.1818181818181817', '8.785714285714283', '', ''), ('4', 'albacore tuna', '17', '0.28535212418300654', '0.28535212418300654', '1.0', '17.0', '', '')]\n"
     ]
    }
   ],
   "source": [
    "conn = sqlite3.connect(\"GroceryDB.db\")\n",
    "cursor = conn.cursor()\n",
    "cursor.execute(\"SELECT * FROM GroceryDB LIMIT 5;\")\n",
    "print(\"Top 5 rows of the GroceryDB table:\")\n",
    "print(cursor.fetchall())\n"
   ]
  },
  {
   "cell_type": "code",
   "execution_count": 18,
   "metadata": {},
   "outputs": [
    {
     "name": "stdout",
     "output_type": "stream",
     "text": [
      "Record inserted successfully!\n"
     ]
    }
   ],
   "source": [
    "# Example data to be inserted\n",
    "data_to_insert = [\n",
    "    ('general name', 'count_products', 'ingred_FPro', 'avg_FPro_products', 'avg_distance_root', 'ingred_normalization_term', 'semantic_tree_name', 'semantic_tree_node'),\n",
    "    ('arabica coffee', 21, 0.18903204038025467, 0.2754401549508692, 2.0476190476190474, 15.16666666666667, '', ''),\n",
    "    ('grape tomatoes', 18, 0.21119429773632484, 0.4212998456790123, 3.111111111111111, 10.594047619047616, '', ''),\n",
    "    ('cherry tomatoes', 11, 0.23032828967178565, 0.31386826599326595, 2.1818181818181817, 8.785714285714283, '', ''),\n",
    "    ('yellow bell pepper', 16, 0.23402118394914562, 0.46428807870370364, 4.375, 8.323412698412698, '', '')\n",
    "]\n",
    "\n",
    "# SQL query to insert data into the table\n",
    "cursor.executemany(\"\"\"\n",
    "    INSERT INTO GroceryDB \n",
    "    (general_name, count_products, ingred_FPro, avg_FPro_products, avg_distance_root, ingred_normalization_term, semantic_tree_name, semantic_tree_node)\n",
    "    VALUES (?, ?, ?, ?, ?, ?, ?, ?);\n",
    "\"\"\", data_to_insert)\n",
    "# Commit the transaction\n",
    "conn.commit()\n",
    "\n",
    "print(\"Record inserted successfully!\")"
   ]
  },
  {
   "cell_type": "code",
   "execution_count": 19,
   "metadata": {},
   "outputs": [],
   "source": [
    "# Example data to be deleted\n",
    "data_to_delete = ('yellow bell pepper',)\n",
    "# SQL query to delete data from the table\n",
    "cursor.execute(\"DELETE FROM GroceryDB WHERE general_name=?;\", data_to_delete)\n",
    "\n",
    "# Commit the transaction\n",
    "conn.commit()"
   ]
  },
  {
   "cell_type": "code",
   "execution_count": 20,
   "metadata": {},
   "outputs": [],
   "source": [
    "conn.close()"
   ]
  }
 ],
 "metadata": {
  "kernelspec": {
   "display_name": "venv",
   "language": "python",
   "name": "python3"
  },
  "language_info": {
   "codemirror_mode": {
    "name": "ipython",
    "version": 3
   },
   "file_extension": ".py",
   "mimetype": "text/x-python",
   "name": "python",
   "nbconvert_exporter": "python",
   "pygments_lexer": "ipython3",
   "version": "3.10.8"
  },
  "orig_nbformat": 4
 },
 "nbformat": 4,
 "nbformat_minor": 2
}
